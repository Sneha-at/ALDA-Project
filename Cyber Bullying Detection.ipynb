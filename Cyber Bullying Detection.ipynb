{
 "cells": [
  {
   "cell_type": "code",
   "execution_count": 1,
   "id": "placed-complaint",
   "metadata": {},
   "outputs": [],
   "source": [
    "import os\n",
    "# from google.colab import drive"
   ]
  },
  {
   "cell_type": "code",
   "execution_count": 91,
   "id": "tender-junior",
   "metadata": {},
   "outputs": [],
   "source": [
    "import numpy as np\n",
    "import pandas as pd\n",
    "import sklearn as sk\n",
    "import seaborn as sns"
   ]
  },
  {
   "cell_type": "markdown",
   "id": "friendly-shooting",
   "metadata": {},
   "source": [
    "### Read the data "
   ]
  },
  {
   "cell_type": "code",
   "execution_count": 92,
   "id": "expressed-pioneer",
   "metadata": {},
   "outputs": [],
   "source": [
    "aggression_df = pd.read_csv('aggression_parsed_dataset.csv')\n",
    "attack_df = pd.read_csv('attack_parsed_dataset.csv')\n",
    "kaggle_df = pd.read_csv('kaggle_parsed_dataset.csv')\n",
    "toxicity_df = pd.read_csv('toxicity_parsed_dataset.csv')\n",
    "twitter_df = pd.read_csv('twitter_parsed_dataset.csv')\n",
    "twitter_r_df = pd.read_csv('twitter_racism_parsed_dataset.csv')\n",
    "twitter_s_df = pd.read_csv('twitter_sexism_parsed_dataset.csv')\n",
    "youtube_df = pd.read_csv('youtube_parsed_dataset.csv')\n",
    "\n"
   ]
  },
  {
   "cell_type": "code",
   "execution_count": 93,
   "id": "solved-outreach",
   "metadata": {},
   "outputs": [],
   "source": [
    "# pd.read_csv()"
   ]
  },
  {
   "cell_type": "markdown",
   "id": "accompanied-experiment",
   "metadata": {},
   "source": [
    "### Data Cleaning"
   ]
  },
  {
   "cell_type": "code",
   "execution_count": 94,
   "id": "joined-messenger",
   "metadata": {
    "scrolled": true
   },
   "outputs": [
    {
     "data": {
      "text/plain": [
       "(115864, 5)"
      ]
     },
     "execution_count": 94,
     "metadata": {},
     "output_type": "execute_result"
    }
   ],
   "source": [
    "aggression_df.shape"
   ]
  },
  {
   "cell_type": "code",
   "execution_count": 95,
   "id": "polished-induction",
   "metadata": {
    "scrolled": true
   },
   "outputs": [],
   "source": [
    "aggression_df = aggression_df.drop(['index','ed_label_0','ed_label_1'],axis = 1)\n",
    "aggression_df = aggression_df.rename(columns={'oh_label':'label'})\n"
   ]
  },
  {
   "cell_type": "code",
   "execution_count": 96,
   "id": "uniform-joint",
   "metadata": {},
   "outputs": [],
   "source": [
    "aggression_df['Source'] = aggression_df.shape[0]*['aggression_df']"
   ]
  },
  {
   "cell_type": "code",
   "execution_count": 97,
   "id": "innovative-lodge",
   "metadata": {},
   "outputs": [
    {
     "data": {
      "text/html": [
       "<div>\n",
       "<style scoped>\n",
       "    .dataframe tbody tr th:only-of-type {\n",
       "        vertical-align: middle;\n",
       "    }\n",
       "\n",
       "    .dataframe tbody tr th {\n",
       "        vertical-align: top;\n",
       "    }\n",
       "\n",
       "    .dataframe thead th {\n",
       "        text-align: right;\n",
       "    }\n",
       "</style>\n",
       "<table border=\"1\" class=\"dataframe\">\n",
       "  <thead>\n",
       "    <tr style=\"text-align: right;\">\n",
       "      <th></th>\n",
       "      <th>Text</th>\n",
       "      <th>label</th>\n",
       "      <th>Source</th>\n",
       "    </tr>\n",
       "  </thead>\n",
       "  <tbody>\n",
       "    <tr>\n",
       "      <th>0</th>\n",
       "      <td>`- This is not ``creative``.  Those are the di...</td>\n",
       "      <td>0</td>\n",
       "      <td>aggression_df</td>\n",
       "    </tr>\n",
       "    <tr>\n",
       "      <th>1</th>\n",
       "      <td>`  :: the term ``standard model`` is itself le...</td>\n",
       "      <td>0</td>\n",
       "      <td>aggression_df</td>\n",
       "    </tr>\n",
       "    <tr>\n",
       "      <th>2</th>\n",
       "      <td>True or false, the situation as of March 200...</td>\n",
       "      <td>0</td>\n",
       "      <td>aggression_df</td>\n",
       "    </tr>\n",
       "    <tr>\n",
       "      <th>3</th>\n",
       "      <td>Next, maybe you could work on being less cond...</td>\n",
       "      <td>0</td>\n",
       "      <td>aggression_df</td>\n",
       "    </tr>\n",
       "    <tr>\n",
       "      <th>4</th>\n",
       "      <td>This page will need disambiguation.</td>\n",
       "      <td>0</td>\n",
       "      <td>aggression_df</td>\n",
       "    </tr>\n",
       "    <tr>\n",
       "      <th>...</th>\n",
       "      <td>...</td>\n",
       "      <td>...</td>\n",
       "      <td>...</td>\n",
       "    </tr>\n",
       "    <tr>\n",
       "      <th>115859</th>\n",
       "      <td>`   These sources don't exactly exude a sense ...</td>\n",
       "      <td>0</td>\n",
       "      <td>aggression_df</td>\n",
       "    </tr>\n",
       "    <tr>\n",
       "      <th>115860</th>\n",
       "      <td>The Institute for Historical Review is a pee...</td>\n",
       "      <td>0</td>\n",
       "      <td>aggression_df</td>\n",
       "    </tr>\n",
       "    <tr>\n",
       "      <th>115861</th>\n",
       "      <td>:The way you're trying to describe it in this...</td>\n",
       "      <td>0</td>\n",
       "      <td>aggression_df</td>\n",
       "    </tr>\n",
       "    <tr>\n",
       "      <th>115862</th>\n",
       "      <td>== Warning ==  There is clearly a protection...</td>\n",
       "      <td>0</td>\n",
       "      <td>aggression_df</td>\n",
       "    </tr>\n",
       "    <tr>\n",
       "      <th>115863</th>\n",
       "      <td>Alternate option=== Is there perhaps enough ne...</td>\n",
       "      <td>0</td>\n",
       "      <td>aggression_df</td>\n",
       "    </tr>\n",
       "  </tbody>\n",
       "</table>\n",
       "<p>115864 rows × 3 columns</p>\n",
       "</div>"
      ],
      "text/plain": [
       "                                                     Text  label  \\\n",
       "0       `- This is not ``creative``.  Those are the di...      0   \n",
       "1       `  :: the term ``standard model`` is itself le...      0   \n",
       "2         True or false, the situation as of March 200...      0   \n",
       "3        Next, maybe you could work on being less cond...      0   \n",
       "4                    This page will need disambiguation.       0   \n",
       "...                                                   ...    ...   \n",
       "115859  `   These sources don't exactly exude a sense ...      0   \n",
       "115860    The Institute for Historical Review is a pee...      0   \n",
       "115861   :The way you're trying to describe it in this...      0   \n",
       "115862    == Warning ==  There is clearly a protection...      0   \n",
       "115863  Alternate option=== Is there perhaps enough ne...      0   \n",
       "\n",
       "               Source  \n",
       "0       aggression_df  \n",
       "1       aggression_df  \n",
       "2       aggression_df  \n",
       "3       aggression_df  \n",
       "4       aggression_df  \n",
       "...               ...  \n",
       "115859  aggression_df  \n",
       "115860  aggression_df  \n",
       "115861  aggression_df  \n",
       "115862  aggression_df  \n",
       "115863  aggression_df  \n",
       "\n",
       "[115864 rows x 3 columns]"
      ]
     },
     "execution_count": 97,
     "metadata": {},
     "output_type": "execute_result"
    }
   ],
   "source": [
    "aggression_df"
   ]
  },
  {
   "cell_type": "code",
   "execution_count": 98,
   "id": "rubber-match",
   "metadata": {
    "scrolled": true
   },
   "outputs": [],
   "source": [
    "attack_df = attack_df.drop(['index','ed_label_0','ed_label_1'],axis = 1).rename(columns = {'oh_label':'label'})"
   ]
  },
  {
   "cell_type": "code",
   "execution_count": 99,
   "id": "hearing-pipeline",
   "metadata": {},
   "outputs": [],
   "source": [
    "attack_df['Source'] = attack_df.shape[0]*['attack_df']"
   ]
  },
  {
   "cell_type": "code",
   "execution_count": 100,
   "id": "surrounded-theme",
   "metadata": {},
   "outputs": [
    {
     "data": {
      "text/plain": [
       "(115864, 3)"
      ]
     },
     "execution_count": 100,
     "metadata": {},
     "output_type": "execute_result"
    }
   ],
   "source": [
    "attack_df.shape"
   ]
  },
  {
   "cell_type": "code",
   "execution_count": 101,
   "id": "czech-college",
   "metadata": {},
   "outputs": [
    {
     "data": {
      "text/html": [
       "<div>\n",
       "<style scoped>\n",
       "    .dataframe tbody tr th:only-of-type {\n",
       "        vertical-align: middle;\n",
       "    }\n",
       "\n",
       "    .dataframe tbody tr th {\n",
       "        vertical-align: top;\n",
       "    }\n",
       "\n",
       "    .dataframe thead th {\n",
       "        text-align: right;\n",
       "    }\n",
       "</style>\n",
       "<table border=\"1\" class=\"dataframe\">\n",
       "  <thead>\n",
       "    <tr style=\"text-align: right;\">\n",
       "      <th></th>\n",
       "      <th>index</th>\n",
       "      <th>oh_label</th>\n",
       "      <th>Date</th>\n",
       "      <th>Text</th>\n",
       "    </tr>\n",
       "  </thead>\n",
       "  <tbody>\n",
       "    <tr>\n",
       "      <th>0</th>\n",
       "      <td>0</td>\n",
       "      <td>1</td>\n",
       "      <td>20120618192155Z</td>\n",
       "      <td>\"You fuck your dad.\"</td>\n",
       "    </tr>\n",
       "    <tr>\n",
       "      <th>1</th>\n",
       "      <td>1</td>\n",
       "      <td>0</td>\n",
       "      <td>20120528192215Z</td>\n",
       "      <td>\"i really don't understand your point.\\xa0 It ...</td>\n",
       "    </tr>\n",
       "    <tr>\n",
       "      <th>2</th>\n",
       "      <td>2</td>\n",
       "      <td>0</td>\n",
       "      <td>NaN</td>\n",
       "      <td>\"A\\\\xc2\\\\xa0majority of Canadians can and has ...</td>\n",
       "    </tr>\n",
       "    <tr>\n",
       "      <th>3</th>\n",
       "      <td>3</td>\n",
       "      <td>0</td>\n",
       "      <td>NaN</td>\n",
       "      <td>\"listen if you dont wanna get married to a man...</td>\n",
       "    </tr>\n",
       "    <tr>\n",
       "      <th>4</th>\n",
       "      <td>4</td>\n",
       "      <td>0</td>\n",
       "      <td>20120619094753Z</td>\n",
       "      <td>\"C\\xe1c b\\u1ea1n xu\\u1ed1ng \\u0111\\u01b0\\u1edd...</td>\n",
       "    </tr>\n",
       "  </tbody>\n",
       "</table>\n",
       "</div>"
      ],
      "text/plain": [
       "   index  oh_label             Date  \\\n",
       "0      0         1  20120618192155Z   \n",
       "1      1         0  20120528192215Z   \n",
       "2      2         0              NaN   \n",
       "3      3         0              NaN   \n",
       "4      4         0  20120619094753Z   \n",
       "\n",
       "                                                Text  \n",
       "0                               \"You fuck your dad.\"  \n",
       "1  \"i really don't understand your point.\\xa0 It ...  \n",
       "2  \"A\\\\xc2\\\\xa0majority of Canadians can and has ...  \n",
       "3  \"listen if you dont wanna get married to a man...  \n",
       "4  \"C\\xe1c b\\u1ea1n xu\\u1ed1ng \\u0111\\u01b0\\u1edd...  "
      ]
     },
     "execution_count": 101,
     "metadata": {},
     "output_type": "execute_result"
    }
   ],
   "source": [
    "kaggle_df.head()"
   ]
  },
  {
   "cell_type": "code",
   "execution_count": 102,
   "id": "frozen-laser",
   "metadata": {},
   "outputs": [],
   "source": [
    "kaggle_df = kaggle_df.drop(['index','Date'],axis = 1).rename(columns = {'oh_label':'label'})"
   ]
  },
  {
   "cell_type": "code",
   "execution_count": 103,
   "id": "isolated-stick",
   "metadata": {},
   "outputs": [],
   "source": [
    "kaggle_df['Source'] = kaggle_df.shape[0]*['kaggle_df']"
   ]
  },
  {
   "cell_type": "code",
   "execution_count": 104,
   "id": "particular-crowd",
   "metadata": {
    "scrolled": true
   },
   "outputs": [
    {
     "data": {
      "text/html": [
       "<div>\n",
       "<style scoped>\n",
       "    .dataframe tbody tr th:only-of-type {\n",
       "        vertical-align: middle;\n",
       "    }\n",
       "\n",
       "    .dataframe tbody tr th {\n",
       "        vertical-align: top;\n",
       "    }\n",
       "\n",
       "    .dataframe thead th {\n",
       "        text-align: right;\n",
       "    }\n",
       "</style>\n",
       "<table border=\"1\" class=\"dataframe\">\n",
       "  <thead>\n",
       "    <tr style=\"text-align: right;\">\n",
       "      <th></th>\n",
       "      <th>index</th>\n",
       "      <th>Text</th>\n",
       "      <th>ed_label_0</th>\n",
       "      <th>ed_label_1</th>\n",
       "      <th>oh_label</th>\n",
       "    </tr>\n",
       "  </thead>\n",
       "  <tbody>\n",
       "    <tr>\n",
       "      <th>0</th>\n",
       "      <td>0</td>\n",
       "      <td>This: :One can make an analogy in mathematical...</td>\n",
       "      <td>0.9</td>\n",
       "      <td>0.1</td>\n",
       "      <td>0</td>\n",
       "    </tr>\n",
       "    <tr>\n",
       "      <th>1</th>\n",
       "      <td>1</td>\n",
       "      <td>`  :Clarification for you  (and Zundark's righ...</td>\n",
       "      <td>1.0</td>\n",
       "      <td>0.0</td>\n",
       "      <td>0</td>\n",
       "    </tr>\n",
       "    <tr>\n",
       "      <th>2</th>\n",
       "      <td>2</td>\n",
       "      <td>Elected or Electoral? JHK</td>\n",
       "      <td>1.0</td>\n",
       "      <td>0.0</td>\n",
       "      <td>0</td>\n",
       "    </tr>\n",
       "    <tr>\n",
       "      <th>3</th>\n",
       "      <td>3</td>\n",
       "      <td>`This is such a fun entry.   Devotchka  I once...</td>\n",
       "      <td>1.0</td>\n",
       "      <td>0.0</td>\n",
       "      <td>0</td>\n",
       "    </tr>\n",
       "    <tr>\n",
       "      <th>4</th>\n",
       "      <td>4</td>\n",
       "      <td>Please relate the ozone hole to increases in c...</td>\n",
       "      <td>0.8</td>\n",
       "      <td>0.2</td>\n",
       "      <td>0</td>\n",
       "    </tr>\n",
       "  </tbody>\n",
       "</table>\n",
       "</div>"
      ],
      "text/plain": [
       "   index                                               Text  ed_label_0  \\\n",
       "0      0  This: :One can make an analogy in mathematical...         0.9   \n",
       "1      1  `  :Clarification for you  (and Zundark's righ...         1.0   \n",
       "2      2                          Elected or Electoral? JHK         1.0   \n",
       "3      3  `This is such a fun entry.   Devotchka  I once...         1.0   \n",
       "4      4  Please relate the ozone hole to increases in c...         0.8   \n",
       "\n",
       "   ed_label_1  oh_label  \n",
       "0         0.1         0  \n",
       "1         0.0         0  \n",
       "2         0.0         0  \n",
       "3         0.0         0  \n",
       "4         0.2         0  "
      ]
     },
     "execution_count": 104,
     "metadata": {},
     "output_type": "execute_result"
    }
   ],
   "source": [
    "toxicity_df.head()"
   ]
  },
  {
   "cell_type": "code",
   "execution_count": 105,
   "id": "caroline-calibration",
   "metadata": {},
   "outputs": [],
   "source": [
    "toxicity_df = toxicity_df.drop(['index','ed_label_0','ed_label_1'],axis = 1).rename(columns = {'oh_label':'label'})"
   ]
  },
  {
   "cell_type": "code",
   "execution_count": 106,
   "id": "phantom-cinema",
   "metadata": {},
   "outputs": [],
   "source": [
    "toxicity_df['Source'] = toxicity_df.shape[0]*['toxicity_df']"
   ]
  },
  {
   "cell_type": "code",
   "execution_count": 107,
   "id": "sealed-residence",
   "metadata": {},
   "outputs": [
    {
     "data": {
      "text/plain": [
       "(159686, 3)"
      ]
     },
     "execution_count": 107,
     "metadata": {},
     "output_type": "execute_result"
    }
   ],
   "source": [
    "toxicity_df.shape"
   ]
  },
  {
   "cell_type": "code",
   "execution_count": 108,
   "id": "annoying-filing",
   "metadata": {
    "scrolled": true
   },
   "outputs": [
    {
     "data": {
      "text/html": [
       "<div>\n",
       "<style scoped>\n",
       "    .dataframe tbody tr th:only-of-type {\n",
       "        vertical-align: middle;\n",
       "    }\n",
       "\n",
       "    .dataframe tbody tr th {\n",
       "        vertical-align: top;\n",
       "    }\n",
       "\n",
       "    .dataframe thead th {\n",
       "        text-align: right;\n",
       "    }\n",
       "</style>\n",
       "<table border=\"1\" class=\"dataframe\">\n",
       "  <thead>\n",
       "    <tr style=\"text-align: right;\">\n",
       "      <th></th>\n",
       "      <th>index</th>\n",
       "      <th>id</th>\n",
       "      <th>Text</th>\n",
       "      <th>Annotation</th>\n",
       "      <th>oh_label</th>\n",
       "    </tr>\n",
       "  </thead>\n",
       "  <tbody>\n",
       "    <tr>\n",
       "      <th>0</th>\n",
       "      <td>5.74948705591165E+017</td>\n",
       "      <td>5.74948705591165E+017</td>\n",
       "      <td>@halalflaws @biebervalue @greenlinerzjm I read...</td>\n",
       "      <td>none</td>\n",
       "      <td>0.0</td>\n",
       "    </tr>\n",
       "    <tr>\n",
       "      <th>1</th>\n",
       "      <td>5.71917888690393E+017</td>\n",
       "      <td>5.71917888690393E+017</td>\n",
       "      <td>@ShreyaBafna3 Now you idiots claim that people...</td>\n",
       "      <td>none</td>\n",
       "      <td>0.0</td>\n",
       "    </tr>\n",
       "    <tr>\n",
       "      <th>2</th>\n",
       "      <td>3.90255841338601E+017</td>\n",
       "      <td>3.90255841338601E+017</td>\n",
       "      <td>RT @Mooseoftorment Call me sexist, but when I ...</td>\n",
       "      <td>sexism</td>\n",
       "      <td>1.0</td>\n",
       "    </tr>\n",
       "    <tr>\n",
       "      <th>3</th>\n",
       "      <td>5.68208850655916E+017</td>\n",
       "      <td>5.68208850655916E+017</td>\n",
       "      <td>@g0ssipsquirrelx Wrong, ISIS follows the examp...</td>\n",
       "      <td>racism</td>\n",
       "      <td>1.0</td>\n",
       "    </tr>\n",
       "    <tr>\n",
       "      <th>4</th>\n",
       "      <td>5.75596338802373E+017</td>\n",
       "      <td>5.75596338802373E+017</td>\n",
       "      <td>#mkr No No No No No No</td>\n",
       "      <td>none</td>\n",
       "      <td>0.0</td>\n",
       "    </tr>\n",
       "  </tbody>\n",
       "</table>\n",
       "</div>"
      ],
      "text/plain": [
       "                   index                     id  \\\n",
       "0  5.74948705591165E+017  5.74948705591165E+017   \n",
       "1  5.71917888690393E+017  5.71917888690393E+017   \n",
       "2  3.90255841338601E+017  3.90255841338601E+017   \n",
       "3  5.68208850655916E+017  5.68208850655916E+017   \n",
       "4  5.75596338802373E+017  5.75596338802373E+017   \n",
       "\n",
       "                                                Text Annotation  oh_label  \n",
       "0  @halalflaws @biebervalue @greenlinerzjm I read...       none       0.0  \n",
       "1  @ShreyaBafna3 Now you idiots claim that people...       none       0.0  \n",
       "2  RT @Mooseoftorment Call me sexist, but when I ...     sexism       1.0  \n",
       "3  @g0ssipsquirrelx Wrong, ISIS follows the examp...     racism       1.0  \n",
       "4                             #mkr No No No No No No       none       0.0  "
      ]
     },
     "execution_count": 108,
     "metadata": {},
     "output_type": "execute_result"
    }
   ],
   "source": [
    "twitter_df.head()"
   ]
  },
  {
   "cell_type": "code",
   "execution_count": 109,
   "id": "champion-tattoo",
   "metadata": {},
   "outputs": [],
   "source": [
    "twitter_df = twitter_df.drop(['index','id','Annotation'],axis = 1).rename(columns = {'oh_label':'label'})"
   ]
  },
  {
   "cell_type": "code",
   "execution_count": 110,
   "id": "dramatic-kelly",
   "metadata": {},
   "outputs": [],
   "source": [
    "twitter_df['Source'] = twitter_df.shape[0]*['twitter_df']"
   ]
  },
  {
   "cell_type": "code",
   "execution_count": 111,
   "id": "polyphonic-wesley",
   "metadata": {},
   "outputs": [
    {
     "data": {
      "text/html": [
       "<div>\n",
       "<style scoped>\n",
       "    .dataframe tbody tr th:only-of-type {\n",
       "        vertical-align: middle;\n",
       "    }\n",
       "\n",
       "    .dataframe tbody tr th {\n",
       "        vertical-align: top;\n",
       "    }\n",
       "\n",
       "    .dataframe thead th {\n",
       "        text-align: right;\n",
       "    }\n",
       "</style>\n",
       "<table border=\"1\" class=\"dataframe\">\n",
       "  <thead>\n",
       "    <tr style=\"text-align: right;\">\n",
       "      <th></th>\n",
       "      <th>index</th>\n",
       "      <th>UserIndex</th>\n",
       "      <th>Text</th>\n",
       "      <th>Number of Comments</th>\n",
       "      <th>Number of Subscribers</th>\n",
       "      <th>Membership Duration</th>\n",
       "      <th>Number of Uploads</th>\n",
       "      <th>Profanity in UserID</th>\n",
       "      <th>Age</th>\n",
       "      <th>oh_label</th>\n",
       "    </tr>\n",
       "  </thead>\n",
       "  <tbody>\n",
       "    <tr>\n",
       "      <th>0</th>\n",
       "      <td>0</td>\n",
       "      <td>X1</td>\n",
       "      <td>Does N.e.bodyelse Hear her Crazy ass Screamin ...</td>\n",
       "      <td>10</td>\n",
       "      <td>1</td>\n",
       "      <td>3</td>\n",
       "      <td>3</td>\n",
       "      <td>0</td>\n",
       "      <td>15</td>\n",
       "      <td>0</td>\n",
       "    </tr>\n",
       "    <tr>\n",
       "      <th>1</th>\n",
       "      <td>1</td>\n",
       "      <td>X2</td>\n",
       "      <td>There are so many things that are incorrect wi...</td>\n",
       "      <td>3</td>\n",
       "      <td>0</td>\n",
       "      <td>6</td>\n",
       "      <td>5</td>\n",
       "      <td>0</td>\n",
       "      <td>31</td>\n",
       "      <td>0</td>\n",
       "    </tr>\n",
       "    <tr>\n",
       "      <th>2</th>\n",
       "      <td>2</td>\n",
       "      <td>X3</td>\n",
       "      <td>3:26 hahah my boyfriend showed this song to me...</td>\n",
       "      <td>7</td>\n",
       "      <td>0</td>\n",
       "      <td>3</td>\n",
       "      <td>5</td>\n",
       "      <td>0</td>\n",
       "      <td>43</td>\n",
       "      <td>1</td>\n",
       "    </tr>\n",
       "    <tr>\n",
       "      <th>3</th>\n",
       "      <td>3</td>\n",
       "      <td>X2218</td>\n",
       "      <td>dick beyonce fuck y a ass hole you are truely ...</td>\n",
       "      <td>34</td>\n",
       "      <td>0</td>\n",
       "      <td>3</td>\n",
       "      <td>5</td>\n",
       "      <td>0</td>\n",
       "      <td>44</td>\n",
       "      <td>1</td>\n",
       "    </tr>\n",
       "    <tr>\n",
       "      <th>4</th>\n",
       "      <td>4</td>\n",
       "      <td>X5</td>\n",
       "      <td>DongHaeTaemin and Kai ;A; luhansehun and bacon...</td>\n",
       "      <td>11</td>\n",
       "      <td>173</td>\n",
       "      <td>5</td>\n",
       "      <td>5</td>\n",
       "      <td>0</td>\n",
       "      <td>21</td>\n",
       "      <td>0</td>\n",
       "    </tr>\n",
       "  </tbody>\n",
       "</table>\n",
       "</div>"
      ],
      "text/plain": [
       "   index UserIndex                                               Text  \\\n",
       "0      0        X1  Does N.e.bodyelse Hear her Crazy ass Screamin ...   \n",
       "1      1        X2  There are so many things that are incorrect wi...   \n",
       "2      2        X3  3:26 hahah my boyfriend showed this song to me...   \n",
       "3      3     X2218  dick beyonce fuck y a ass hole you are truely ...   \n",
       "4      4        X5  DongHaeTaemin and Kai ;A; luhansehun and bacon...   \n",
       "\n",
       "   Number of Comments  Number of Subscribers  Membership Duration  \\\n",
       "0                  10                      1                    3   \n",
       "1                   3                      0                    6   \n",
       "2                   7                      0                    3   \n",
       "3                  34                      0                    3   \n",
       "4                  11                    173                    5   \n",
       "\n",
       "   Number of Uploads  Profanity in UserID  Age  oh_label  \n",
       "0                  3                    0   15         0  \n",
       "1                  5                    0   31         0  \n",
       "2                  5                    0   43         1  \n",
       "3                  5                    0   44         1  \n",
       "4                  5                    0   21         0  "
      ]
     },
     "execution_count": 111,
     "metadata": {},
     "output_type": "execute_result"
    }
   ],
   "source": [
    "youtube_df.head()"
   ]
  },
  {
   "cell_type": "code",
   "execution_count": 112,
   "id": "killing-fourth",
   "metadata": {},
   "outputs": [],
   "source": [
    "youtube_df = youtube_df.drop(['index','UserIndex','Number of Comments','Number of Subscribers','Membership Duration','Number of Uploads','Profanity in UserID','Age'],axis = 1).rename(columns = {'oh_label':'label'})"
   ]
  },
  {
   "cell_type": "code",
   "execution_count": 113,
   "id": "blind-monday",
   "metadata": {},
   "outputs": [],
   "source": [
    "youtube_df['Source'] = youtube_df.shape[0]*['youtube_df']"
   ]
  },
  {
   "cell_type": "code",
   "execution_count": 114,
   "id": "aboriginal-helen",
   "metadata": {
    "scrolled": true
   },
   "outputs": [
    {
     "data": {
      "text/plain": [
       "(3464, 3)"
      ]
     },
     "execution_count": 114,
     "metadata": {},
     "output_type": "execute_result"
    }
   ],
   "source": [
    "youtube_df.shape"
   ]
  },
  {
   "cell_type": "code",
   "execution_count": null,
   "id": "proper-plenty",
   "metadata": {},
   "outputs": [],
   "source": [
    "k_suspicious_df = k_suspicious_df.rename(columns = {'message':'Text'})"
   ]
  },
  {
   "cell_type": "code",
   "execution_count": null,
   "id": "unlike-liberty",
   "metadata": {},
   "outputs": [],
   "source": [
    "k_suspicious_df['Source'] = k_suspicious_df.shape[0]*['k_suspicious_df']"
   ]
  },
  {
   "cell_type": "code",
   "execution_count": null,
   "id": "recent-brown",
   "metadata": {
    "scrolled": true
   },
   "outputs": [],
   "source": [
    "k_suspicious_df.shape"
   ]
  },
  {
   "cell_type": "markdown",
   "id": "premier-objective",
   "metadata": {},
   "source": [
    "### Merge all the files"
   ]
  },
  {
   "cell_type": "code",
   "execution_count": 115,
   "id": "allied-priest",
   "metadata": {},
   "outputs": [],
   "source": [
    "merged_df = pd.concat([youtube_df,twitter_df,aggression_df,attack_df,kaggle_df,toxicity_df])"
   ]
  },
  {
   "cell_type": "code",
   "execution_count": 116,
   "id": "medical-spirituality",
   "metadata": {},
   "outputs": [
    {
     "data": {
      "text/plain": [
       "(420528, 3)"
      ]
     },
     "execution_count": 116,
     "metadata": {},
     "output_type": "execute_result"
    }
   ],
   "source": [
    "merged_df.shape"
   ]
  },
  {
   "cell_type": "code",
   "execution_count": 117,
   "id": "wired-format",
   "metadata": {
    "scrolled": true
   },
   "outputs": [
    {
     "data": {
      "text/plain": [
       "Text      1\n",
       "label     3\n",
       "Source    0\n",
       "dtype: int64"
      ]
     },
     "execution_count": 117,
     "metadata": {},
     "output_type": "execute_result"
    }
   ],
   "source": [
    "merged_df.isnull().sum()"
   ]
  },
  {
   "cell_type": "code",
   "execution_count": 118,
   "id": "wanted-brighton",
   "metadata": {
    "scrolled": true
   },
   "outputs": [
    {
     "data": {
      "text/html": [
       "<div>\n",
       "<style scoped>\n",
       "    .dataframe tbody tr th:only-of-type {\n",
       "        vertical-align: middle;\n",
       "    }\n",
       "\n",
       "    .dataframe tbody tr th {\n",
       "        vertical-align: top;\n",
       "    }\n",
       "\n",
       "    .dataframe thead th {\n",
       "        text-align: right;\n",
       "    }\n",
       "</style>\n",
       "<table border=\"1\" class=\"dataframe\">\n",
       "  <thead>\n",
       "    <tr style=\"text-align: right;\">\n",
       "      <th></th>\n",
       "      <th>Text</th>\n",
       "      <th>label</th>\n",
       "      <th>Source</th>\n",
       "    </tr>\n",
       "  </thead>\n",
       "  <tbody>\n",
       "    <tr>\n",
       "      <th>2992</th>\n",
       "      <td>RT @Lizzethismetal: Probably gonna piss off so...</td>\n",
       "      <td>NaN</td>\n",
       "      <td>twitter_df</td>\n",
       "    </tr>\n",
       "    <tr>\n",
       "      <th>2993</th>\n",
       "      <td>NaN</td>\n",
       "      <td>NaN</td>\n",
       "      <td>twitter_df</td>\n",
       "    </tr>\n",
       "    <tr>\n",
       "      <th>2994</th>\n",
       "      <td>1</td>\n",
       "      <td>NaN</td>\n",
       "      <td>twitter_df</td>\n",
       "    </tr>\n",
       "  </tbody>\n",
       "</table>\n",
       "</div>"
      ],
      "text/plain": [
       "                                                   Text  label      Source\n",
       "2992  RT @Lizzethismetal: Probably gonna piss off so...    NaN  twitter_df\n",
       "2993                                                NaN    NaN  twitter_df\n",
       "2994                                                  1    NaN  twitter_df"
      ]
     },
     "execution_count": 118,
     "metadata": {},
     "output_type": "execute_result"
    }
   ],
   "source": [
    "merged_df[merged_df['label'].isnull()]"
   ]
  },
  {
   "cell_type": "code",
   "execution_count": 119,
   "id": "proprietary-tissue",
   "metadata": {},
   "outputs": [],
   "source": [
    "merged_df = merged_df.reset_index()"
   ]
  },
  {
   "cell_type": "code",
   "execution_count": 120,
   "id": "weekly-article",
   "metadata": {},
   "outputs": [
    {
     "data": {
      "text/html": [
       "<div>\n",
       "<style scoped>\n",
       "    .dataframe tbody tr th:only-of-type {\n",
       "        vertical-align: middle;\n",
       "    }\n",
       "\n",
       "    .dataframe tbody tr th {\n",
       "        vertical-align: top;\n",
       "    }\n",
       "\n",
       "    .dataframe thead th {\n",
       "        text-align: right;\n",
       "    }\n",
       "</style>\n",
       "<table border=\"1\" class=\"dataframe\">\n",
       "  <thead>\n",
       "    <tr style=\"text-align: right;\">\n",
       "      <th></th>\n",
       "      <th>index</th>\n",
       "      <th>Text</th>\n",
       "      <th>label</th>\n",
       "      <th>Source</th>\n",
       "    </tr>\n",
       "  </thead>\n",
       "  <tbody>\n",
       "    <tr>\n",
       "      <th>6456</th>\n",
       "      <td>2992</td>\n",
       "      <td>RT @Lizzethismetal: Probably gonna piss off so...</td>\n",
       "      <td>NaN</td>\n",
       "      <td>twitter_df</td>\n",
       "    </tr>\n",
       "    <tr>\n",
       "      <th>6457</th>\n",
       "      <td>2993</td>\n",
       "      <td>NaN</td>\n",
       "      <td>NaN</td>\n",
       "      <td>twitter_df</td>\n",
       "    </tr>\n",
       "    <tr>\n",
       "      <th>6458</th>\n",
       "      <td>2994</td>\n",
       "      <td>1</td>\n",
       "      <td>NaN</td>\n",
       "      <td>twitter_df</td>\n",
       "    </tr>\n",
       "  </tbody>\n",
       "</table>\n",
       "</div>"
      ],
      "text/plain": [
       "      index                                               Text  label  \\\n",
       "6456   2992  RT @Lizzethismetal: Probably gonna piss off so...    NaN   \n",
       "6457   2993                                                NaN    NaN   \n",
       "6458   2994                                                  1    NaN   \n",
       "\n",
       "          Source  \n",
       "6456  twitter_df  \n",
       "6457  twitter_df  \n",
       "6458  twitter_df  "
      ]
     },
     "execution_count": 120,
     "metadata": {},
     "output_type": "execute_result"
    }
   ],
   "source": [
    "merged_df[merged_df['label'].isnull()]"
   ]
  },
  {
   "cell_type": "code",
   "execution_count": 121,
   "id": "racial-bench",
   "metadata": {},
   "outputs": [],
   "source": [
    "merged_df = merged_df.drop('index',axis =1)"
   ]
  },
  {
   "cell_type": "code",
   "execution_count": 122,
   "id": "decreased-nursery",
   "metadata": {
    "scrolled": true
   },
   "outputs": [
    {
     "data": {
      "text/html": [
       "<div>\n",
       "<style scoped>\n",
       "    .dataframe tbody tr th:only-of-type {\n",
       "        vertical-align: middle;\n",
       "    }\n",
       "\n",
       "    .dataframe tbody tr th {\n",
       "        vertical-align: top;\n",
       "    }\n",
       "\n",
       "    .dataframe thead th {\n",
       "        text-align: right;\n",
       "    }\n",
       "</style>\n",
       "<table border=\"1\" class=\"dataframe\">\n",
       "  <thead>\n",
       "    <tr style=\"text-align: right;\">\n",
       "      <th></th>\n",
       "      <th>Text</th>\n",
       "      <th>label</th>\n",
       "      <th>Source</th>\n",
       "    </tr>\n",
       "  </thead>\n",
       "  <tbody>\n",
       "    <tr>\n",
       "      <th>6456</th>\n",
       "      <td>RT @Lizzethismetal: Probably gonna piss off so...</td>\n",
       "      <td>NaN</td>\n",
       "      <td>twitter_df</td>\n",
       "    </tr>\n",
       "    <tr>\n",
       "      <th>6457</th>\n",
       "      <td>NaN</td>\n",
       "      <td>NaN</td>\n",
       "      <td>twitter_df</td>\n",
       "    </tr>\n",
       "    <tr>\n",
       "      <th>6458</th>\n",
       "      <td>1</td>\n",
       "      <td>NaN</td>\n",
       "      <td>twitter_df</td>\n",
       "    </tr>\n",
       "  </tbody>\n",
       "</table>\n",
       "</div>"
      ],
      "text/plain": [
       "                                                   Text  label      Source\n",
       "6456  RT @Lizzethismetal: Probably gonna piss off so...    NaN  twitter_df\n",
       "6457                                                NaN    NaN  twitter_df\n",
       "6458                                                  1    NaN  twitter_df"
      ]
     },
     "execution_count": 122,
     "metadata": {},
     "output_type": "execute_result"
    }
   ],
   "source": [
    "merged_df.iloc[6456:6459]"
   ]
  },
  {
   "cell_type": "code",
   "execution_count": 123,
   "id": "according-corrections",
   "metadata": {},
   "outputs": [],
   "source": [
    "merged_df = merged_df.drop([6456,6457,6458],axis = 0)"
   ]
  },
  {
   "cell_type": "code",
   "execution_count": 124,
   "id": "above-convertible",
   "metadata": {
    "scrolled": true
   },
   "outputs": [
    {
     "data": {
      "text/plain": [
       "Text      225346\n",
       "label          2\n",
       "Source         6\n",
       "dtype: int64"
      ]
     },
     "execution_count": 124,
     "metadata": {},
     "output_type": "execute_result"
    }
   ],
   "source": [
    "merged_df.nunique()"
   ]
  },
  {
   "cell_type": "code",
   "execution_count": 125,
   "id": "vietnamese-astrology",
   "metadata": {},
   "outputs": [],
   "source": [
    "import matplotlib.pyplot as plt"
   ]
  },
  {
   "cell_type": "code",
   "execution_count": 126,
   "id": "colored-neutral",
   "metadata": {
    "scrolled": true
   },
   "outputs": [
    {
     "data": {
      "text/plain": [
       "0.0    368221\n",
       "1.0     52304\n",
       "Name: label, dtype: int64"
      ]
     },
     "execution_count": 126,
     "metadata": {},
     "output_type": "execute_result"
    }
   ],
   "source": [
    "merged_df['label'].value_counts()"
   ]
  },
  {
   "cell_type": "code",
   "execution_count": 127,
   "id": "broken-bumper",
   "metadata": {},
   "outputs": [
    {
     "data": {
      "text/html": [
       "<div>\n",
       "<style scoped>\n",
       "    .dataframe tbody tr th:only-of-type {\n",
       "        vertical-align: middle;\n",
       "    }\n",
       "\n",
       "    .dataframe tbody tr th {\n",
       "        vertical-align: top;\n",
       "    }\n",
       "\n",
       "    .dataframe thead th {\n",
       "        text-align: right;\n",
       "    }\n",
       "</style>\n",
       "<table border=\"1\" class=\"dataframe\">\n",
       "  <thead>\n",
       "    <tr style=\"text-align: right;\">\n",
       "      <th></th>\n",
       "      <th>Text</th>\n",
       "      <th>label</th>\n",
       "      <th>Source</th>\n",
       "    </tr>\n",
       "  </thead>\n",
       "  <tbody>\n",
       "  </tbody>\n",
       "</table>\n",
       "</div>"
      ],
      "text/plain": [
       "Empty DataFrame\n",
       "Columns: [Text, label, Source]\n",
       "Index: []"
      ]
     },
     "execution_count": 127,
     "metadata": {},
     "output_type": "execute_result"
    }
   ],
   "source": [
    "merged_df[merged_df['label'].isnull()]"
   ]
  },
  {
   "cell_type": "code",
   "execution_count": 128,
   "id": "ordinary-change",
   "metadata": {
    "scrolled": true
   },
   "outputs": [],
   "source": [
    "merged_df['label'] = merged_df['label'].astype(int)"
   ]
  },
  {
   "cell_type": "code",
   "execution_count": 129,
   "id": "furnished-equity",
   "metadata": {},
   "outputs": [
    {
     "data": {
      "text/plain": [
       "Text      225346\n",
       "label          2\n",
       "Source         6\n",
       "dtype: int64"
      ]
     },
     "execution_count": 129,
     "metadata": {},
     "output_type": "execute_result"
    }
   ],
   "source": [
    "merged_df.nunique()"
   ]
  },
  {
   "cell_type": "code",
   "execution_count": 130,
   "id": "controlling-brake",
   "metadata": {
    "scrolled": true
   },
   "outputs": [
    {
     "data": {
      "text/plain": [
       "(array([368221.,  52304.]),\n",
       " array([0. , 0.5, 1. ]),\n",
       " <BarContainer object of 2 artists>)"
      ]
     },
     "execution_count": 130,
     "metadata": {},
     "output_type": "execute_result"
    },
    {
     "data": {
      "image/png": "[encoded data removed]",
      "text/plain": [
       "<Figure size 432x288 with 1 Axes>"
      ]
     },
     "metadata": {
      "needs_background": "light"
     },
     "output_type": "display_data"
    }
   ],
   "source": [
    "# Cyberbullying labels\n",
    "plt.hist(merged_df['label'],bins =2)\n"
   ]
  },
  {
   "cell_type": "code",
   "execution_count": 90,
   "id": "public-gospel",
   "metadata": {},
   "outputs": [
    {
     "data": {
      "image/png": "[encoded data removed]",
      "text/plain": [
       "<Figure size 504x504 with 1 Axes>"
      ]
     },
     "metadata": {},
     "output_type": "display_data"
    }
   ],
   "source": [
    "plt.figure(figsize = (7,7))\n",
    "sorted_counts = merged_df['label'].value_counts()\n",
    "plt.pie(sorted_counts, labels = sorted_counts.index, startangle = 90, counterclock = False, wedgeprops = {'width' : 0.6},\n",
    "       autopct='%1.1f%%', pctdistance = 0.7, textprops = {'color': 'black', 'fontsize' : 15}, shadow = True,\n",
    "        colors = sns.color_palette(\"Paired\")[7:])\n",
    "plt.text(x = -0.35, y = 0, s = 'Total Tweets: {}'.format(merged_df.shape[0]))\n",
    "plt.title('Cyberbullying Texts', fontsize = 16);"
   ]
  },
  {
   "cell_type": "code",
   "execution_count": 131,
   "id": "computational-length",
   "metadata": {
    "scrolled": true
   },
   "outputs": [
    {
     "ename": "NameError",
     "evalue": "name 'subset' is not defined",
     "output_type": "error",
     "traceback": [
      "\u001b[0;31m---------------------------------------------------------------------------\u001b[0m",
      "\u001b[0;31mNameError\u001b[0m                                 Traceback (most recent call last)",
      "\u001b[0;32m<ipython-input-131-a3518d37781b>\u001b[0m in \u001b[0;36m<module>\u001b[0;34m\u001b[0m\n\u001b[0;32m----> 1\u001b[0;31m \u001b[0mmerged_df\u001b[0m\u001b[0;34m.\u001b[0m\u001b[0miloc\u001b[0m\u001b[0;34m[\u001b[0m\u001b[0;34m:\u001b[0m\u001b[0;34m,\u001b[0m\u001b[0;34m:\u001b[0m\u001b[0;34m-\u001b[0m\u001b[0;36m1\u001b[0m\u001b[0;34m]\u001b[0m\u001b[0;34m.\u001b[0m\u001b[0mdrop_duplicates\u001b[0m\u001b[0;34m(\u001b[0m\u001b[0msubset\u001b[0m\u001b[0;34m)\u001b[0m\u001b[0;34m\u001b[0m\u001b[0;34m\u001b[0m\u001b[0m\n\u001b[0m",
      "\u001b[0;31mNameError\u001b[0m: name 'subset' is not defined"
     ]
    }
   ],
   "source": [
    "merged_df.iloc[:,:-1].drop_duplicates(subset)"
   ]
  },
  {
   "cell_type": "markdown",
   "id": "related-methodology",
   "metadata": {},
   "source": [
    "### Remove Duplicates"
   ]
  },
  {
   "cell_type": "code",
   "execution_count": 132,
   "id": "focal-arrest",
   "metadata": {},
   "outputs": [],
   "source": [
    "merged_df_1 = merged_df[~(merged_df[['Text','label']].duplicated(keep='last'))]"
   ]
  },
  {
   "cell_type": "code",
   "execution_count": 133,
   "id": "pacific-renewal",
   "metadata": {},
   "outputs": [],
   "source": [
    "#Both labels\n",
    "merged_df_1[merged_df_1['Text'].duplicated(keep=False)].to_csv('check_duplicates.csv')"
   ]
  },
  {
   "cell_type": "code",
   "execution_count": 134,
   "id": "median-majority",
   "metadata": {},
   "outputs": [],
   "source": [
    "merged_df_2 = merged_df_1[~(merged_df_1['Text'].duplicated(keep=False))]"
   ]
  },
  {
   "cell_type": "code",
   "execution_count": 135,
   "id": "plain-conservative",
   "metadata": {},
   "outputs": [],
   "source": [
    "merged_df_2.to_csv('Final_merged_file.csv')"
   ]
  },
  {
   "cell_type": "code",
   "execution_count": 136,
   "id": "still-greek",
   "metadata": {},
   "outputs": [
    {
     "data": {
      "text/plain": [
       "0    197640\n",
       "1     21253\n",
       "Name: label, dtype: int64"
      ]
     },
     "execution_count": 136,
     "metadata": {},
     "output_type": "execute_result"
    }
   ],
   "source": [
    "merged_df_2['label'].value_counts()"
   ]
  },
  {
   "cell_type": "code",
   "execution_count": 137,
   "id": "killing-corruption",
   "metadata": {},
   "outputs": [
    {
     "data": {
      "text/plain": [
       "(218893, 3)"
      ]
     },
     "execution_count": 137,
     "metadata": {},
     "output_type": "execute_result"
    }
   ],
   "source": [
    "merged_df_2.shape"
   ]
  },
  {
   "cell_type": "markdown",
   "id": "automotive-robertson",
   "metadata": {},
   "source": [
    "### Remove text with contradicting labels"
   ]
  },
  {
   "cell_type": "code",
   "execution_count": 138,
   "id": "radical-ideal",
   "metadata": {
    "scrolled": true
   },
   "outputs": [
    {
     "data": {
      "text/plain": [
       "0    6453\n",
       "1    6453\n",
       "Name: label, dtype: int64"
      ]
     },
     "execution_count": 138,
     "metadata": {},
     "output_type": "execute_result"
    }
   ],
   "source": [
    "merged_df_1[(merged_df_1['Text'].duplicated(keep=False))]['label'].value_counts()"
   ]
  },
  {
   "cell_type": "code",
   "execution_count": 139,
   "id": "offshore-consideration",
   "metadata": {},
   "outputs": [],
   "source": [
    "import re"
   ]
  },
  {
   "cell_type": "code",
   "execution_count": 140,
   "id": "removed-corps",
   "metadata": {
    "scrolled": false
   },
   "outputs": [
    {
     "name": "stderr",
     "output_type": "stream",
     "text": [
      "<ipython-input-140-5c2d9c1362e8>:1: SettingWithCopyWarning: \n",
      "A value is trying to be set on a copy of a slice from a DataFrame.\n",
      "Try using .loc[row_indexer,col_indexer] = value instead\n",
      "\n",
      "See the caveats in the documentation: https://pandas.pydata.org/pandas-docs/stable/user_guide/indexing.html#returning-a-view-versus-a-copy\n",
      "  merged_df_2['Updated_Text'] = merged_df_2['Text'].map(lambda x: re.sub(r'\\W+',' ', x)).str.lower()\n"
     ]
    }
   ],
   "source": [
    "merged_df_2['Updated_Text'] = merged_df_2['Text'].map(lambda x: re.sub(r'\\W+',' ', x)).str.lower()"
   ]
  },
  {
   "cell_type": "code",
   "execution_count": 141,
   "id": "failing-redhead",
   "metadata": {
    "scrolled": false
   },
   "outputs": [
    {
     "data": {
      "text/plain": [
       "0         Does Nebodyelse Hear her Crazy ass Screamin HO...\n",
       "1         There are so many things that are incorrect wi...\n",
       "2         326 hahah my boyfriend showed this song to me ...\n",
       "3         dick beyonce fuck y a ass hole you are truely ...\n",
       "4         DongHaeTaemin and Kai ;A; luhansehun and bacon...\n",
       "                                ...                        \n",
       "420523    `   These sources don't exactly exude a sense ...\n",
       "420524      The Institute for Historical Review is a pee...\n",
       "420525     The way you're trying to describe it in this ...\n",
       "420526       Warning   There is clearly a protectionist ...\n",
       "420527    Alternate option Is there perhaps enough newsw...\n",
       "Name: Text, Length: 218893, dtype: object"
      ]
     },
     "execution_count": 141,
     "metadata": {},
     "output_type": "execute_result"
    }
   ],
   "source": [
    "merged_df_2['Text'].map(lambda x: re.sub(r'[!,*)@#%(:&/$_?.=^]','', x))"
   ]
  },
  {
   "cell_type": "code",
   "execution_count": 142,
   "id": "dangerous-claim",
   "metadata": {
    "scrolled": true
   },
   "outputs": [
    {
     "data": {
      "text/plain": [
       "0         Does N.e.bodyelse Hear her Crazy ass Screamin ...\n",
       "1         There are so many things that are incorrect wi...\n",
       "2         3:26 hahah my boyfriend showed this song to me...\n",
       "3         dick beyonce fuck y a ass hole you are truely ...\n",
       "4         DongHaeTaemin and Kai ;A; luhansehun and bacon...\n",
       "                                ...                        \n",
       "420523    `   These sources don't exactly exude a sense ...\n",
       "420524      The Institute for Historical Review is a pee...\n",
       "420525     :The way you're trying to describe it in this...\n",
       "420526      == Warning ==  There is clearly a protection...\n",
       "420527    Alternate option=== Is there perhaps enough ne...\n",
       "Name: Text, Length: 218893, dtype: object"
      ]
     },
     "execution_count": 142,
     "metadata": {},
     "output_type": "execute_result"
    }
   ],
   "source": [
    "merged_df_2['Text']"
   ]
  },
  {
   "cell_type": "code",
   "execution_count": 143,
   "id": "conservative-middle",
   "metadata": {},
   "outputs": [],
   "source": [
    "CONTRACTION_MAP = {\n",
    "\"ain't\": \"is not\",\n",
    "\"aren't\": \"are not\",\n",
    "\"can't\": \"cannot\",\n",
    "\"can't've\": \"cannot have\",\n",
    "\"'cause\": \"because\",\n",
    "\"could've\": \"could have\",\n",
    "\"couldn't\": \"could not\",\n",
    "\"couldn't've\": \"could not have\",\n",
    "\"didn't\": \"did not\",\n",
    "\"doesn't\": \"does not\",\n",
    "\"don't\": \"do not\",\n",
    "\"hadn't\": \"had not\",\n",
    "\"hadn't've\": \"had not have\",\n",
    "\"hasn't\": \"has not\",\n",
    "\"haven't\": \"have not\",\n",
    "\"he'd\": \"he would\",\n",
    "\"he'd've\": \"he would have\",\n",
    "\"he'll\": \"he will\",\n",
    "\"he'll've\": \"he he will have\",\n",
    "\"he's\": \"he is\",\n",
    "\"how'd\": \"how did\",\n",
    "\"how'd'y\": \"how do you\",\n",
    "\"how'll\": \"how will\",\n",
    "\"how's\": \"how is\",\n",
    "\"I'd\": \"I would\",\n",
    "\"I'd've\": \"I would have\",\n",
    "\"I'll\": \"I will\",\n",
    "\"I'll've\": \"I will have\",\n",
    "\"I'm\": \"I am\",\n",
    "\"I've\": \"I have\",\n",
    "\"i'd\": \"i would\",\n",
    "\"i'd've\": \"i would have\",\n",
    "\"i'll\": \"i will\",\n",
    "\"i'll've\": \"i will have\",\n",
    "\"i'm\": \"i am\",\n",
    "\"i've\": \"i have\",\n",
    "\"isn't\": \"is not\",\n",
    "\"it'd\": \"it would\",\n",
    "\"it'd've\": \"it would have\",\n",
    "\"it'll\": \"it will\",\n",
    "\"it'll've\": \"it will have\",\n",
    "\"it's\": \"it is\",\n",
    "\"let's\": \"let us\",\n",
    "\"ma'am\": \"madam\",\n",
    "\"mayn't\": \"may not\",\n",
    "\"might've\": \"might have\",\n",
    "\"mightn't\": \"might not\",\n",
    "\"mightn't've\": \"might not have\",\n",
    "\"must've\": \"must have\",\n",
    "\"mustn't\": \"must not\",\n",
    "\"mustn't've\": \"must not have\",\n",
    "\"needn't\": \"need not\",\n",
    "\"needn't've\": \"need not have\",\n",
    "\"o'clock\": \"of the clock\",\n",
    "\"oughtn't\": \"ought not\",\n",
    "\"oughtn't've\": \"ought not have\",\n",
    "\"shan't\": \"shall not\",\n",
    "\"sha'n't\": \"shall not\",\n",
    "\"shan't've\": \"shall not have\",\n",
    "\"she'd\": \"she would\",\n",
    "\"she'd've\": \"she would have\",\n",
    "\"she'll\": \"she will\",\n",
    "\"she'll've\": \"she will have\",\n",
    "\"she's\": \"she is\",\n",
    "\"should've\": \"should have\",\n",
    "\"shouldn't\": \"should not\",\n",
    "\"shouldn't've\": \"should not have\",\n",
    "\"so've\": \"so have\",\n",
    "\"so's\": \"so as\",\n",
    "\"that'd\": \"that would\",\n",
    "\"that'd've\": \"that would have\",\n",
    "\"that's\": \"that is\",\n",
    "\"there'd\": \"there would\",\n",
    "\"there'd've\": \"there would have\",\n",
    "\"there's\": \"there is\",\n",
    "\"they'd\": \"they would\",\n",
    "\"they'd've\": \"they would have\",\n",
    "\"they'll\": \"they will\",\n",
    "\"they'll've\": \"they will have\",\n",
    "\"they're\": \"they are\",\n",
    "\"they've\": \"they have\",\n",
    "\"to've\": \"to have\",\n",
    "\"wasn't\": \"was not\",\n",
    "\"we'd\": \"we would\",\n",
    "\"we'd've\": \"we would have\",\n",
    "\"we'll\": \"we will\",\n",
    "\"we'll've\": \"we will have\",\n",
    "\"we're\": \"we are\",\n",
    "\"we've\": \"we have\",\n",
    "\"weren't\": \"were not\",\n",
    "\"what'll\": \"what will\",\n",
    "\"what'll've\": \"what will have\",\n",
    "\"what're\": \"what are\",\n",
    "\"what's\": \"what is\",\n",
    "\"what've\": \"what have\",\n",
    "\"when's\": \"when is\",\n",
    "\"when've\": \"when have\",\n",
    "\"where'd\": \"where did\",\n",
    "\"where's\": \"where is\",\n",
    "\"where've\": \"where have\",\n",
    "\"who'll\": \"who will\",\n",
    "\"who'll've\": \"who will have\",\n",
    "\"who's\": \"who is\",\n",
    "\"who've\": \"who have\",\n",
    "\"why's\": \"why is\",\n",
    "\"why've\": \"why have\",\n",
    "\"will've\": \"will have\",\n",
    "\"won't\": \"will not\",\n",
    "\"won't've\": \"will not have\",\n",
    "\"would've\": \"would have\",\n",
    "\"wouldn't\": \"would not\",\n",
    "\"wouldn't've\": \"would not have\",\n",
    "\"y'all\": \"you all\",\n",
    "\"y'all'd\": \"you all would\",\n",
    "\"y'all'd've\": \"you all would have\",\n",
    "\"y'all're\": \"you all are\",\n",
    "\"y'all've\": \"you all have\",\n",
    "\"you'd\": \"you would\",\n",
    "\"you'd've\": \"you would have\",\n",
    "\"you'll\": \"you will\",\n",
    "\"you'll've\": \"you will have\",\n",
    "\"you're\": \"you are\",\n",
    "\"you've\": \"you have\"\n",
    "}\n"
   ]
  },
  {
   "cell_type": "code",
   "execution_count": 144,
   "id": "duplicate-thickness",
   "metadata": {},
   "outputs": [],
   "source": [
    "def expand_contractions(text, contraction_mapping=CONTRACTION_MAP):\n",
    "    text = text.split() # to convert have'nt -> have not\n",
    "    for i in range(len(text)):\n",
    "        word = text[i]\n",
    "        if word in contraction_mapping:\n",
    "            text[i] = contraction_mapping[word]\n",
    "    text = \" \".join(text)\n",
    "    text = text.replace(\"'s\",'') # to convert your's -> your\n",
    "    return text"
   ]
  },
  {
   "cell_type": "code",
   "execution_count": 145,
   "id": "falling-identification",
   "metadata": {},
   "outputs": [
    {
     "data": {
      "text/plain": [
       "\"gfcyfyug.''.j\""
      ]
     },
     "execution_count": 145,
     "metadata": {},
     "output_type": "execute_result"
    }
   ],
   "source": [
    "re.sub(r\"[^a-zA-Z0-9. '']\",'',\"gfcyfyug.!@#$%^&*()$'',.j\") # remove punctuations"
   ]
  },
  {
   "cell_type": "code",
   "execution_count": 2,
   "id": "curious-williams",
   "metadata": {},
   "outputs": [
    {
     "name": "stdout",
     "output_type": "stream",
     "text": [
      "Output\n"
     ]
    }
   ],
   "source": [
    "new_list_1 = []\n",
    "# f = re.sub(r'[^a-zA-Z0-9. ]','',merged_df_2['Text'])\n",
    "for t in merged_df_2['Text']:\n",
    "    new_list_1.append(expand_contractions(re.sub(r\"[^a-zA-Z0-9. '']\",'',t)))\n",
    "new_list_1\n",
    "print('Output')"
   ]
  },
  {
   "cell_type": "code",
   "execution_count": 76,
   "id": "stock-juvenile",
   "metadata": {
    "scrolled": true
   },
   "outputs": [
    {
     "name": "stderr",
     "output_type": "stream",
     "text": [
      "<ipython-input-76-440e57271bb5>:1: SettingWithCopyWarning: \n",
      "A value is trying to be set on a copy of a slice from a DataFrame.\n",
      "Try using .loc[row_indexer,col_indexer] = value instead\n",
      "\n",
      "See the caveats in the documentation: https://pandas.pydata.org/pandas-docs/stable/user_guide/indexing.html#returning-a-view-versus-a-copy\n",
      "  merged_df_2['Updated_Text'] = new_list_1\n",
      "<ipython-input-76-440e57271bb5>:2: SettingWithCopyWarning: \n",
      "A value is trying to be set on a copy of a slice from a DataFrame.\n",
      "Try using .loc[row_indexer,col_indexer] = value instead\n",
      "\n",
      "See the caveats in the documentation: https://pandas.pydata.org/pandas-docs/stable/user_guide/indexing.html#returning-a-view-versus-a-copy\n",
      "  merged_df_2['Updated_Text'] = merged_df_2['Updated_Text'].str.lower()\n"
     ]
    }
   ],
   "source": [
    "merged_df_2['Updated_Text'] = new_list_1\n",
    "merged_df_2['Updated_Text'] = merged_df_2['Updated_Text'].str.lower()"
   ]
  },
  {
   "cell_type": "code",
   "execution_count": 147,
   "id": "wooden-methodology",
   "metadata": {},
   "outputs": [],
   "source": [
    "import numpy as np \n",
    "import pandas as pd \n",
    "import matplotlib.pyplot as plt\n",
    "import seaborn as sns\n",
    "from sklearn.model_selection import train_test_split, GridSearchCV\n",
    "from sklearn.feature_extraction.text import CountVectorizer\n",
    "from sklearn.metrics import f1_score, accuracy_score, precision_score, recall_score, make_scorer\n",
    "from time import time\n",
    "\n",
    "from sklearn.naive_bayes import MultinomialNB, GaussianNB\n",
    "from sklearn.tree import DecisionTreeClassifier\n",
    "from sklearn.svm import LinearSVC\n",
    "from sklearn.ensemble import AdaBoostClassifier, RandomForestClassifier, BaggingClassifier\n",
    "from sklearn.linear_model import LogisticRegression, SGDClassifier\n",
    "from sklearn.neighbors import KNeighborsClassifier\n",
    "# from sklearn.externals import joblib"
   ]
  },
  {
   "cell_type": "code",
   "execution_count": 148,
   "id": "tribal-metropolitan",
   "metadata": {},
   "outputs": [],
   "source": [
    "X_train, X_test, y_train, y_test = train_test_split(merged_df_2['Updated_Text'], \n",
    "                                                    merged_df_2['label'], \n",
    "                                                    random_state=42,\n",
    "                                                   test_size = 0.2,\n",
    "                                                   train_size = 0.8)"
   ]
  },
  {
   "cell_type": "code",
   "execution_count": 149,
   "id": "clear-colors",
   "metadata": {},
   "outputs": [],
   "source": [
    "# X_train = merged_df_2['Updated_Text']\n",
    "\n",
    "# Instantiate the CountVectorizer method\n",
    "count_vector = CountVectorizer(stop_words = 'english', lowercase = True)\n",
    "\n",
    "# Fit the training data and then return the matrix\n",
    "training_data = count_vector.fit_transform(X_train)\n",
    "\n",
    "# Transform testing data and return the matrix. Note we are not fitting the testing data into the CountVectorizer()\n",
    "testing_data = count_vector.transform(X_test)"
   ]
  },
  {
   "cell_type": "code",
   "execution_count": 150,
   "id": "sustained-consciousness",
   "metadata": {},
   "outputs": [
    {
     "data": {
      "text/plain": [
       "(43779, 221373)"
      ]
     },
     "execution_count": 150,
     "metadata": {},
     "output_type": "execute_result"
    }
   ],
   "source": [
    "testing_data.shape"
   ]
  },
  {
   "cell_type": "code",
   "execution_count": 151,
   "id": "endless-classroom",
   "metadata": {},
   "outputs": [
    {
     "data": {
      "text/plain": [
       "(175114, 221373)"
      ]
     },
     "execution_count": 151,
     "metadata": {},
     "output_type": "execute_result"
    }
   ],
   "source": [
    "training_data.shape"
   ]
  },
  {
   "cell_type": "code",
   "execution_count": 152,
   "id": "apparent-ukraine",
   "metadata": {},
   "outputs": [
    {
     "data": {
      "text/plain": [
       "221039     what happened during this edit war was a disa...\n",
       "345346     passportguy passportguy the page www wonderli...\n",
       "258028              no you re getting played like a fiddle \n",
       "254081     you really are a complete moron yo must be on...\n",
       "340679     february 2009 ii i ve just noticed you ve rev...\n",
       "                                ...                        \n",
       "317319     that isn t a test it is legitimate informatio...\n",
       "300473     you shouldn t of blocked user editor on wheel...\n",
       "329994                merge both articles should be merged \n",
       "345506     phase two of the war on schumin we are enteri...\n",
       "319509     goffs oak hi perhaps you could help then how ...\n",
       "Name: Updated_Text, Length: 175114, dtype: object"
      ]
     },
     "execution_count": 152,
     "metadata": {},
     "output_type": "execute_result"
    }
   ],
   "source": [
    "X_train"
   ]
  },
  {
   "cell_type": "code",
   "execution_count": 153,
   "id": "fabulous-place",
   "metadata": {},
   "outputs": [],
   "source": [
    "chck = X_train.map(lambda x: re.sub(r'[!,*)@#%(:&/$_?.=^]','', x))"
   ]
  },
  {
   "cell_type": "code",
   "execution_count": 84,
   "id": "grand-breeding",
   "metadata": {},
   "outputs": [],
   "source": [
    "#Multinomial NB\n",
    "MNB = MultinomialNB()\n",
    "MNB.fit(training_data,y_train)\n",
    "y_pred = MNB.predict(testing_data)\n"
   ]
  },
  {
   "cell_type": "code",
   "execution_count": 85,
   "id": "weighted-morgan",
   "metadata": {},
   "outputs": [
    {
     "name": "stdout",
     "output_type": "stream",
     "text": [
      "Accuracy for Naive Bayes is 0.936\n",
      "F1 Score for Naive Bayes is 0.636\n",
      "Precision Score for Naive Bayes is 0.577\n",
      "Recall Score for Naive Bayes is 0.708\n"
     ]
    }
   ],
   "source": [
    "model = 'Naive Bayes'\n",
    "print('Accuracy for {} is {}'.format(model,round(accuracy_score(y_pred,y_test),3)))\n",
    "print('F1 Score for {} is {}'.format(model,round(f1_score(y_pred,y_test),3)))\n",
    "print('Precision Score for {} is {}'.format(model,round(precision_score(y_pred,y_test),3)))\n",
    "print('Recall Score for {} is {}'.format(model,round(recall_score(y_pred,y_test),3)))"
   ]
  },
  {
   "cell_type": "code",
   "execution_count": 86,
   "id": "sonic-tourism",
   "metadata": {},
   "outputs": [
    {
     "data": {
      "text/plain": [
       "BaggingClassifier()"
      ]
     },
     "execution_count": 86,
     "metadata": {},
     "output_type": "execute_result"
    }
   ],
   "source": [
    "# Bagging Classifier\n",
    "BGC = BaggingClassifier()\n",
    "BGC.fit(training_data,y_train)\n"
   ]
  },
  {
   "cell_type": "code",
   "execution_count": 87,
   "id": "floppy-sherman",
   "metadata": {},
   "outputs": [],
   "source": [
    "y_pred_bgc = BGC.predict(testing_data)"
   ]
  },
  {
   "cell_type": "code",
   "execution_count": 88,
   "id": "signed-genealogy",
   "metadata": {},
   "outputs": [
    {
     "name": "stdout",
     "output_type": "stream",
     "text": [
      "Accuracy for Bagging Classifier is 0.941\n",
      "F1 Score for Bagging Classifier is 0.686\n",
      "Precision Score for Bagging Classifier is 0.666\n",
      "Recall Score for Bagging Classifier is 0.706\n"
     ]
    }
   ],
   "source": [
    "model = 'Bagging Classifier'\n",
    "print('Accuracy for {} is {}'.format(model,round(accuracy_score(y_pred_bgc,y_test),3)))\n",
    "print('F1 Score for {} is {}'.format(model,round(f1_score(y_pred_bgc,y_test),3)))\n",
    "print('Precision Score for {} is {}'.format(model,round(precision_score(y_pred_bgc,y_test),3)))\n",
    "print('Recall Score for {} is {}'.format(model,round(recall_score(y_pred_bgc,y_test),3)))"
   ]
  },
  {
   "cell_type": "code",
   "execution_count": 154,
   "id": "expired-petroleum",
   "metadata": {},
   "outputs": [
    {
     "data": {
      "text/plain": [
       "AdaBoostClassifier()"
      ]
     },
     "execution_count": 154,
     "metadata": {},
     "output_type": "execute_result"
    }
   ],
   "source": [
    "# AdaBoostClassifier\n",
    "AdBC = AdaBoostClassifier()\n",
    "AdBC.fit(training_data,y_train)"
   ]
  },
  {
   "cell_type": "code",
   "execution_count": 155,
   "id": "active-assurance",
   "metadata": {},
   "outputs": [],
   "source": [
    "y_pred_adbc = AdBC.predict(testing_data)"
   ]
  },
  {
   "cell_type": "code",
   "execution_count": 156,
   "id": "aggressive-bangkok",
   "metadata": {},
   "outputs": [
    {
     "name": "stdout",
     "output_type": "stream",
     "text": [
      "Accuracy for AdaBoost Classifier is 0.924\n",
      "F1 Score for AdaBoost Classifier is 0.435\n",
      "Precision Score for AdaBoost Classifier is 0.302\n",
      "Recall Score for AdaBoost Classifier is 0.778\n"
     ]
    }
   ],
   "source": [
    "model = 'AdaBoost Classifier'\n",
    "print('Accuracy for {} is {}'.format(model,round(accuracy_score(y_pred_adbc,y_test),3)))\n",
    "print('F1 Score for {} is {}'.format(model,round(f1_score(y_pred_adbc,y_test),3)))\n",
    "print('Precision Score for {} is {}'.format(model,round(precision_score(y_pred_adbc,y_test),3)))\n",
    "print('Recall Score for {} is {}'.format(model,round(recall_score(y_pred_adbc,y_test),3)))"
   ]
  },
  {
   "cell_type": "code",
   "execution_count": 157,
   "id": "fallen-kansas",
   "metadata": {},
   "outputs": [
    {
     "data": {
      "text/plain": [
       "RandomForestClassifier()"
      ]
     },
     "execution_count": 157,
     "metadata": {},
     "output_type": "execute_result"
    }
   ],
   "source": [
    "#RandomForestClassifier\n",
    "RF = RandomForestClassifier()\n",
    "RF.fit(training_data,y_train)"
   ]
  },
  {
   "cell_type": "code",
   "execution_count": 158,
   "id": "anonymous-siemens",
   "metadata": {},
   "outputs": [],
   "source": [
    "y_pred_rf = RF.predict(testing_data)"
   ]
  },
  {
   "cell_type": "code",
   "execution_count": 159,
   "id": "equal-savings",
   "metadata": {},
   "outputs": [
    {
     "name": "stdout",
     "output_type": "stream",
     "text": [
      "Accuracy for Random Forest Classifier is 0.948\n",
      "F1 Score for Random Forest Classifier is 0.688\n",
      "Precision Score for Random Forest Classifier is 0.589\n",
      "Recall Score for Random Forest Classifier is 0.826\n"
     ]
    }
   ],
   "source": [
    "model = 'Random Forest Classifier'\n",
    "print('Accuracy for {} is {}'.format(model,round(accuracy_score(y_pred_rf,y_test),3)))\n",
    "print('F1 Score for {} is {}'.format(model,round(f1_score(y_pred_rf,y_test),3)))\n",
    "print('Precision Score for {} is {}'.format(model,round(precision_score(y_pred_rf,y_test),3)))\n",
    "print('Recall Score for {} is {}'.format(model,round(recall_score(y_pred_rf,y_test),3)))"
   ]
  },
  {
   "cell_type": "code",
   "execution_count": 160,
   "id": "military-progress",
   "metadata": {
    "scrolled": true
   },
   "outputs": [
    {
     "data": {
      "text/plain": [
       "SGDClassifier()"
      ]
     },
     "execution_count": 160,
     "metadata": {},
     "output_type": "execute_result"
    }
   ],
   "source": [
    "#SGDClassifier\n",
    "SGD = SGDClassifier()\n",
    "SGD.fit(training_data,y_train)"
   ]
  },
  {
   "cell_type": "code",
   "execution_count": 161,
   "id": "iraqi-lambda",
   "metadata": {},
   "outputs": [],
   "source": [
    "y_pred_sgd = SGD.predict(testing_data)"
   ]
  },
  {
   "cell_type": "code",
   "execution_count": 162,
   "id": "loved-workshop",
   "metadata": {},
   "outputs": [
    {
     "name": "stdout",
     "output_type": "stream",
     "text": [
      "Accuracy for SGD Classifier is 0.946\n",
      "F1 Score for SGD Classifier is 0.668\n",
      "Precision Score for SGD Classifier is 0.563\n",
      "Recall Score for SGD Classifier is 0.82\n"
     ]
    }
   ],
   "source": [
    "model = 'SGD Classifier'\n",
    "print('Accuracy for {} is {}'.format(model,round(accuracy_score(y_pred_sgd,y_test),3)))\n",
    "print('F1 Score for {} is {}'.format(model,round(f1_score(y_pred_sgd,y_test),3)))\n",
    "print('Precision Score for {} is {}'.format(model,round(precision_score(y_pred_sgd,y_test),3)))\n",
    "print('Recall Score for {} is {}'.format(model,round(recall_score(y_pred_sgd,y_test),3)))"
   ]
  },
  {
   "cell_type": "code",
   "execution_count": 163,
   "id": "contemporary-making",
   "metadata": {},
   "outputs": [
    {
     "name": "stderr",
     "output_type": "stream",
     "text": [
      "/opt/miniconda3/lib/python3.8/site-packages/sklearn/linear_model/_logistic.py:763: ConvergenceWarning: lbfgs failed to converge (status=1):\n",
      "STOP: TOTAL NO. of ITERATIONS REACHED LIMIT.\n",
      "\n",
      "Increase the number of iterations (max_iter) or scale the data as shown in:\n",
      "    https://scikit-learn.org/stable/modules/preprocessing.html\n",
      "Please also refer to the documentation for alternative solver options:\n",
      "    https://scikit-learn.org/stable/modules/linear_model.html#logistic-regression\n",
      "  n_iter_i = _check_optimize_result(\n"
     ]
    },
    {
     "data": {
      "text/plain": [
       "LogisticRegression()"
      ]
     },
     "execution_count": 163,
     "metadata": {},
     "output_type": "execute_result"
    }
   ],
   "source": [
    "#LogisticRegression\n",
    "LR = LogisticRegression()\n",
    "LR.fit(training_data,y_train)"
   ]
  },
  {
   "cell_type": "code",
   "execution_count": 164,
   "id": "indirect-elite",
   "metadata": {},
   "outputs": [],
   "source": [
    "y_pred_lr = LR.predict(testing_data)"
   ]
  },
  {
   "cell_type": "code",
   "execution_count": 165,
   "id": "pacific-mexican",
   "metadata": {},
   "outputs": [
    {
     "data": {
      "text/plain": [
       "0.685561367230264"
      ]
     },
     "execution_count": 165,
     "metadata": {},
     "output_type": "execute_result"
    }
   ],
   "source": [
    "f1_score(y_pred_bgc,y_test)"
   ]
  },
  {
   "cell_type": "code",
   "execution_count": 166,
   "id": "indian-variety",
   "metadata": {},
   "outputs": [
    {
     "name": "stdout",
     "output_type": "stream",
     "text": [
      "Accuracy for Logistic Regression is 0.946\n",
      "F1 Score for Logistic Regression is 0.68\n",
      "Precision Score for Logistic Regression is 0.594\n",
      "Recall Score for Logistic Regression is 0.795\n"
     ]
    }
   ],
   "source": [
    "model = 'Logistic Regression'\n",
    "print('Accuracy for {} is {}'.format(model,round(accuracy_score(y_pred_lr,y_test),3)))\n",
    "print('F1 Score for {} is {}'.format(model,round(f1_score(y_pred_lr,y_test),3)))\n",
    "print('Precision Score for {} is {}'.format(model,round(precision_score(y_pred_lr,y_test),3)))\n",
    "print('Recall Score for {} is {}'.format(model,round(recall_score(y_pred_lr,y_test),3)))"
   ]
  },
  {
   "cell_type": "code",
   "execution_count": null,
   "id": "static-front",
   "metadata": {},
   "outputs": [],
   "source": [
    "accuracy_score(y_pred,y_test)"
   ]
  },
  {
   "cell_type": "code",
   "execution_count": null,
   "id": "incredible-interference",
   "metadata": {},
   "outputs": [],
   "source": [
    "MNB = MultinomialNB()\n",
    "MNB.fit(X_train,y_train)\n",
    "MNB.predict(X_test)"
   ]
  },
  {
   "cell_type": "code",
   "execution_count": null,
   "id": "assured-concern",
   "metadata": {},
   "outputs": [],
   "source": [
    "from sklearn.svm import SVC\n",
    "svclassifier = SVC(kernel='linear')\n",
    "svclassifier.fit(training_data,y_train)"
   ]
  },
  {
   "cell_type": "code",
   "execution_count": null,
   "id": "prescribed-tissue",
   "metadata": {},
   "outputs": [],
   "source": [
    "y_pred_svc = svclassifier.predict(testing_data)"
   ]
  },
  {
   "cell_type": "code",
   "execution_count": null,
   "id": "designed-special",
   "metadata": {},
   "outputs": [],
   "source": [
    "model = 'SVM Classifier'\n",
    "print('Accuracy for {} is {}'.format(model,round(accuracy_score(y_pred_svc,y_test),3)))\n",
    "print('F1 Score for {} is {}'.format(model,round(f1_score(y_pred_svc,y_test),3)))\n",
    "print('Precision Score for {} is {}'.format(model,round(precision_score(y_pred_svc,y_test),3)))\n",
    "print('Recall Score for {} is {}'.format(model,round(recall_score(y_pred_svc,y_test),3)))"
   ]
  },
  {
   "cell_type": "code",
   "execution_count": null,
   "id": "cooked-unknown",
   "metadata": {},
   "outputs": [],
   "source": []
  }
 ],
 "metadata": {
  "kernelspec": {
   "display_name": "Python 3",
   "language": "python",
   "name": "python3"
  },
  "language_info": {
   "codemirror_mode": {
    "name": "ipython",
    "version": 3
   },
   "file_extension": ".py",
   "mimetype": "text/x-python",
   "name": "python",
   "nbconvert_exporter": "python",
   "pygments_lexer": "ipython3",
   "version": "3.8.5"
  }
 },
 "nbformat": 4,
 "nbformat_minor": 5
}
